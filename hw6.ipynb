{
 "cells": [
  {
   "cell_type": "markdown",
   "id": "21a1f0d2-d75c-4443-b816-1d1db3760454",
   "metadata": {},
   "source": [
    "# HW 6 - Iterables\n",
    "ULAB - Physics and Astronomy Division \\\n",
    "Due **Wednesday, October 30th, 2024 at 11:59pm** on Gradescope\n",
    "\n",
    "### REMINDER: Once you are done with this homework, make sure to include a screenshot of you pushing this notebook inside of your homework6 branch. Make sure to include this screenshot in your branch before submitting to Gradescope!\n",
    "\n",
    "### If there is no screenshot, then you will recieve a zero! \n",
    "\n",
    "General Tip (so you don't get silly points taken off):\n",
    "- Make sure **each function** follows good coding practices (i.e. a comment, detailed names, different steps on each line, etc)."
   ]
  },
  {
   "cell_type": "markdown",
   "id": "8dc7e46b-1e8e-486c-a2e9-d615c687028b",
   "metadata": {},
   "source": [
    "# 1 Lists\n",
    "\n",
    "## 1.1 List Slicing and Striding\n",
    "Write a **function** that takes in a list of integers and returns:\n",
    "\n",
    "- the first 5 elements\n",
    "- the last 5 elements\n",
    "- every 2nd element in the list\n",
    "- the list in reverse order.\n",
    "\n",
    "Use the test case below, along with two other ones (that you make-up):\n",
    "\n",
    "```\n",
    "list = [1, 2, 3, 4, 5, 6, 7, 8, 9, 10, 11, 12, 14, 15, 16, 17, 18, 19, 20]\n",
    "```"
   ]
  },
  {
   "cell_type": "code",
   "execution_count": 19,
   "id": "08dabd73-3dbc-4aab-843a-d4b81102835d",
   "metadata": {},
   "outputs": [
    {
     "name": "stdout",
     "output_type": "stream",
     "text": [
      "[1, 2, 3, 4, 5]\n",
      "[16, 17, 18, 19, 20]\n",
      "[1, 3, 5, 7, 9, 11, 13, 15, 17, 19]\n",
      "[20, 19, 18, 17, 16, 15, 14, 13, 12, 11, 10, 9, 8, 7, 6, 5, 4, 3, 2, 1]\n",
      "[3, 6, 9, 12, 15]\n",
      "[12, 15, 18, 21, 24]\n",
      "[3, 9, 15, 21]\n",
      "[24, 21, 18, 15, 12, 9, 6, 3]\n",
      "[12, 31, 42, 532, 2]\n",
      "[532, 2, 5, 213, 32]\n",
      "[12, 42, 2, 213]\n",
      "[32, 213, 5, 2, 532, 42, 31, 12]\n"
     ]
    }
   ],
   "source": [
    "list1 = [1 ,2, 3, 4, 5, 6, 7, 8, 9, 10, 11, 12, 13, 14, 15, 16, 17, 18, 19, 20]\n",
    "print(list1[:5])\n",
    "print(list1[15:20])\n",
    "print(list1[::2])\n",
    "print(list1[::-1])\n",
    "\n",
    "list2 = [3, 6, 9, 12, 15, 18, 21, 24]\n",
    "print(list2[:5])\n",
    "print(list2[3:8])\n",
    "print(list2[::2])\n",
    "print(list2[::-1])\n",
    "\n",
    "list3 = [12, 31, 42, 532, 2, 5, 213, 32]\n",
    "print(list3[:5])\n",
    "print(list3[3:8])\n",
    "print(list3[::2])\n",
    "print(list3[::-1])\n"
   ]
  },
  {
   "cell_type": "markdown",
   "id": "92c77920-20fc-455e-bf52-10b5a518ed2d",
   "metadata": {},
   "source": [
    "## 1.2 Iterating Over Lists with For Loops\n",
    "Write a **function** that takes in a list, with a **for** loop to return: \n",
    "- the square of each number in the list\n",
    "- the cube of each even number in the list\n",
    "\n",
    "Use the test case below, along with two other ones (that you make-up):\n",
    "\n",
    "```\n",
    "list = [1, 2, 3, 4, 5, 6]\n",
    "```"
   ]
  },
  {
   "cell_type": "code",
   "execution_count": 36,
   "id": "5054c807-a247-4159-9ce1-43020bcc3000",
   "metadata": {},
   "outputs": [
    {
     "name": "stdout",
     "output_type": "stream",
     "text": [
      "[1, 4, 9, 16, 25, 36]\n",
      "[1, 8, 27, 64, 125, 216]\n",
      "[9, 16, 4, 225, 1849, 100]\n",
      "[27, 64, 8, 3375, 79507, 1000]\n",
      "[144, 116964, 2809, 121, 1, 16]\n",
      "[1728, 40001688, 148877, 1331, 1, 64]\n"
     ]
    }
   ],
   "source": [
    "def square(list):\n",
    "    #Squares each number in the list and \"replaces\" the original number with its square\n",
    "    squared_numbers = [] #Random list that we get as an output of our input list\n",
    "    for number in list: #Run through the list and do the operation we tell it\n",
    "        squared_numbers.append(number**2) #square every number and add those numbers to our new, empty list in order.\n",
    "    return squared_numbers #give us the new complete list\n",
    "\n",
    "def cube(list):\n",
    "    #Cubes each number in a list and \"replaces\" the original number with the cube, same as the last, just cube the inputs\n",
    "    cubed_numbers = [] \n",
    "    for number in list:\n",
    "        cubed_numbers.append(number**3)\n",
    "    return cubed_numbers\n",
    "\n",
    "list1 = [1, 2, 3, 4, 5, 6]\n",
    "list2 = [3, 4, 2, 15, 43, 10]\n",
    "list3 = [12, 342, 53, 11, 1, 4]\n",
    "print(square(list1))\n",
    "print(cube(list1))\n",
    "print(square(list2))\n",
    "print(cube(list2))\n",
    "print(square(list3))\n",
    "print(cube(list3))"
   ]
  },
  {
   "cell_type": "markdown",
   "id": "e2e075da-c004-400d-b796-5435e096816d",
   "metadata": {},
   "source": [
    "# 2 Dictionaries\n",
    "We have not fully covered **dictionaries** in class, but a **dictionary** is a collection of key-value pairs. Each key is unique and is associated with a specific value. Like a real dictionary! \n",
    "\n",
    "You can create a dictionary by placing key-value pairs inside of curly brackets `{}` with a `:` separating the key from the value. \n",
    "\n",
    "Run the cell below for an example:"
   ]
  },
  {
   "cell_type": "code",
   "execution_count": 23,
   "id": "dbdb0f41-4f57-4524-ab51-ff1fc502bdfc",
   "metadata": {},
   "outputs": [
    {
     "name": "stdout",
     "output_type": "stream",
     "text": [
      "{'Mercury': 0.39, 'Venus': 0.72, 'Earth': 1.0, 'Mars': 1.52, 'Jupiter': 5.2, 'Saturn': 9.58, 'Uranus': 19.22, 'Neptune': 30.05}\n"
     ]
    }
   ],
   "source": [
    "# A dictionary that contains some data about the planets in our solar system\n",
    "planet_data = {\n",
    "    \"Mercury\": 0.39, \n",
    "    \"Venus\": 0.72,\n",
    "    \"Earth\": 1.00, # distance from the Sun in AU\n",
    "    \"Mars\": 1.52,\n",
    "    \"Jupiter\": 5.20,\n",
    "    \"Saturn\": 9.58,\n",
    "    \"Uranus\": 19.22,\n",
    "    \"Neptune\": 30.05\n",
    "}   \n",
    "\n",
    "print(planet_data) # print the dictonary"
   ]
  },
  {
   "cell_type": "markdown",
   "id": "886c93f4-0027-4969-ba67-cc12eca04c9c",
   "metadata": {},
   "source": [
    "## 2.1 Looping through a dictionary\n",
    "Write a function that takes in the `planet_data` dictionary and uses a `for` loop to print the names of each of the planets and its distance from the sun."
   ]
  },
  {
   "cell_type": "code",
   "execution_count": 29,
   "id": "a3ab065a-42f5-4aa0-8e0f-38e87c583464",
   "metadata": {},
   "outputs": [
    {
     "name": "stdout",
     "output_type": "stream",
     "text": [
      "Mercury: 0.39 Astronomical Units from the Sun\n",
      "Venus: 0.72 Astronomical Units from the Sun\n",
      "Earth: 1.0 Astronomical Units from the Sun\n",
      "Mars: 1.52 Astronomical Units from the Sun\n",
      "Jupiter: 5.2 Astronomical Units from the Sun\n",
      "Saturn: 9.58 Astronomical Units from the Sun\n",
      "Uranus: 19.22 Astronomical Units from the Sun\n",
      "Neptune: 30.05 Astronomical Units from the Sun\n"
     ]
    }
   ],
   "source": [
    "def planet_distance_from_sun():\n",
    "    # prints the planet as well as its distance from the sun\n",
    "    planets = {\n",
    "        \"Mercury\": 0.39, \n",
    "        \"Venus\": 0.72,\n",
    "        \"Earth\": 1.00, # distance from the Sun in AU\n",
    "        \"Mars\": 1.52,\n",
    "        \"Jupiter\": 5.20,\n",
    "        \"Saturn\": 9.58,\n",
    "        \"Uranus\": 19.22,\n",
    "        \"Neptune\": 30.05\n",
    "    }\n",
    "    for planet, distance in planets.items(): #loops through the dictionary and writes it as a collection of tuples\n",
    "        print(f\"{planet}: {distance} Astronomical Units from the Sun\") #Prints what I want how I want it\n",
    "\n",
    "planet_distance_from_sun()"
   ]
  },
  {
   "cell_type": "markdown",
   "id": "2b38b6fb-ce68-4f20-a8a1-ba241e8db53e",
   "metadata": {},
   "source": [
    "## 2.2 Dictionaries and Conditionals\n",
    "Write a function that uses a while loop to print all the planets that are a minimum distance of 5 AU from the Sun. "
   ]
  },
  {
   "cell_type": "code",
   "execution_count": 30,
   "id": "6e07cf13-efba-4a75-ad75-0428dc31108d",
   "metadata": {},
   "outputs": [
    {
     "name": "stdout",
     "output_type": "stream",
     "text": [
      "Jupiter: 5.2 Astronomical Units from the Sun\n",
      "Saturn: 9.58 Astronomical Units from the Sun\n",
      "Uranus: 19.22 Astronomical Units from the Sun\n",
      "Neptune: 30.05 Astronomical Units from the Sun\n"
     ]
    }
   ],
   "source": [
    "def planet_distance_from_sun():\n",
    "    # prints the planet as well as its distance from the sun\n",
    "    planets = {\n",
    "        \"Mercury\": 0.39, \n",
    "        \"Venus\": 0.72,\n",
    "        \"Earth\": 1.00, # distance from the Sun in AU\n",
    "        \"Mars\": 1.52,\n",
    "        \"Jupiter\": 5.20,\n",
    "        \"Saturn\": 9.58,\n",
    "        \"Uranus\": 19.22,\n",
    "        \"Neptune\": 30.05\n",
    "    }\n",
    "    #dictionary of planet data for later use\n",
    "\n",
    "    planet_items = list(planets.items()) #writes the dictionary of planets and distances as a list of tuples called planet_items\n",
    "    i = 0 #index\n",
    "    while i < len(planet_items): #look at every list with any number of inputs greater than zero\n",
    "        planet, distance = planet_items[i]\n",
    "\n",
    "        if distance >= 5: #sets the lower bound that must be met in order to be printed\n",
    "            print(f\"{planet}: {distance} Astronomical Units from the Sun\") #print the terminology and numbers I want\n",
    "\n",
    "        i += 1 #goes through the list one number at a time\n",
    "\n",
    "planet_distance_from_sun()"
   ]
  },
  {
   "cell_type": "markdown",
   "id": "5e1ba0c0-5dd9-44e8-895c-73a36d614949",
   "metadata": {},
   "source": [
    "# 3 Observing Stars in a Cluster\n",
    "Your goal is to calculate the total brightness of a group of stars in a star cluster and estimate how long it would take for a telescope to observer each star, depending on their brightness (magnitude). Here is some background information:\n",
    "- The brightness of a star, from a telescope, is measured by its **apparent magnitude**, a LOWER magnitude means a brighter star. A HIGHER magnitude means a fainter star. So a 4th magnitude star is much brighter than a 17th magnitude star.\n",
    "- To convert magnitude into brightness, use the following formula\n",
    "$$\n",
    "\\text{Brightness} = 10^{-\\frac{\\text{magnitude}}{2.5}}\n",
    "$$\n",
    "\n",
    "Use this list of magnitudes and time limit:\n",
    "\n",
    "```\n",
    "magnitudes = [12.5, 13.2, 14.8, 19.1, 21.0, 18.5, 15.3, 10.5, 23.0]\n",
    "time_limit = 500\n",
    "```\n",
    "\n",
    "Expected outcome (your solutions with be the answers to the ???):\n",
    "- Total brightness of the stars: ???\n",
    "- Total observation time for all observable stars: ???\n",
    "- Number of stars that can be observed within 500 seconds: ???"
   ]
  },
  {
   "cell_type": "markdown",
   "id": "336785a7-71bf-434d-982c-dd72dd29cf71",
   "metadata": {},
   "source": [
    "## 3.1 Calculate Brightness\n",
    "1) Write a **function** which inputs a list of star magnitudes (brightnesses).\n",
    "2) Inside your function, use a `for` loop to calculate (with the given formula) the brightness of each star.\n",
    "3) Inside your function, use a `for` loop to sum up the total brightness of all the stars.\n",
    "5) Have your function return the **total brightness** of all the stars and a **list of the brightnesses** of the stars.\n",
    "6) Test out your function with the **given** magnitude values."
   ]
  },
  {
   "cell_type": "code",
   "execution_count": 10,
   "id": "ccc331f4-c029-4a82-810b-4a78d0fa1a2a",
   "metadata": {},
   "outputs": [
    {
     "name": "stdout",
     "output_type": "stream",
     "text": [
      "Total Brightness: 8.037198248279666e-05\n",
      "Brightness of each star: [1e-05, 5.248074602497734e-06, 1.2022644346174132e-06, 2.29086765276777e-08, 3.981071705534969e-09, 3.981071705534969e-08, 7.585775750291836e-07, 6.309573444801929e-05, 6.309573444801942e-10]\n"
     ]
    }
   ],
   "source": [
    "def calculate_star_brightness(magnitudes):\n",
    "    #prints both the brightness of each stars as well as the sum of the brightnesses\n",
    "    brightnesses = []  # List to store brightness of each star\n",
    "    total_brightness = 0  # Variable to sum total brightness\n",
    "\n",
    "    # Calculating the brightness for each magnitude\n",
    "    \n",
    "    for magnitude in magnitudes:\n",
    "        brightness = 10 ** (magnitude / -2.5)\n",
    "        brightnesses.append(brightness)  # Store brightness\n",
    "        total_brightness += brightness  # Sum total brightness\n",
    "\n",
    "    return total_brightness, brightnesses\n",
    "\n",
    "# Test the function with example magnitude values\n",
    "magnitudes3 = [12.5, 13.2, 14.8, 19.1, 21.0, 18.5, 15.3, 10.5, 23.0]\n",
    "total_brightness, brightness_list = calculate_star_brightness(magnitudes3)\n",
    "\n",
    "print(f\"Total Brightness: {total_brightness}\")\n",
    "print(f\"Brightness of each star: {brightness_list}\")\n"
   ]
  },
  {
   "cell_type": "markdown",
   "id": "9aff0e1c-9f88-4ebb-a05b-d39363d9e88e",
   "metadata": {},
   "source": [
    "## 3.2 Observation Time\n",
    "1) Write a **function** which inputs a list of star magnitudes (brightnesses).\n",
    "2) Inside your function, use a `for` loop to calculate the time to observe each star.\n",
    "- You can just assume each star's observation time is inversely proportional to its brightness with the following formula:\n",
    "\n",
    "$$\n",
    "\\text{Observation Time (in seconds)} \\propto \\frac{1}{\\text{Brightness}} \n",
    "$$\n",
    "\n",
    "3) Inside you function, write a `condition` that ignores stars that have a magnitude greater than 20 (very very faint stars).\n",
    "4) Have your function return the **total observation time** (ignoring >20 magnitudes) and a **list of the times** it would take to observe each individual star.\n",
    "5) Test out your function with the **given** magnitude values."
   ]
  },
  {
   "cell_type": "code",
   "execution_count": 4,
   "id": "044d17cf-82a8-44b6-8958-447632f713f6",
   "metadata": {},
   "outputs": [
    {
     "name": "stdout",
     "output_type": "stream",
     "text": [
      "Total observation time : 71226863.0524925, Individual observation times: [99999.99999999999, 190546.07179632442, 831763.7711026708, 43651583.22401666, 25118864.315095823, 1318256.7385564074, 15848.931924611143]\n"
     ]
    }
   ],
   "source": [
    "def observation_time_of_stars(magnitudes):\n",
    "    #prints the total observation time for all stars as well as each individual star\n",
    "    Observation_times = [] #List to store observation times\n",
    "    Total_Observation_time = 0 #Variable for summing of the times\n",
    "\n",
    "    #Calculating the observation time of each star\n",
    "    \n",
    "    for magnitude in magnitudes:\n",
    "        if magnitude > 20:\n",
    "            continue #skip when magnitude is greater than 20\n",
    "        Observation_time = (1 /(10 ** (magnitude / -2.5)))\n",
    "        Observation_times.append(Observation_time) #Store the new observation times\n",
    "        Total_Observation_time += Observation_time #Total sum\n",
    "    return f\"Total observation time : {Total_Observation_time}, Individual observation times: {Observation_times}\"\n",
    "\n",
    "magnitudes1 = [12.5, 13.2, 14.8, 19.1, 21.0, 18.5, 15.3, 10.5, 23.0]\n",
    "print(observation_time_of_stars(magnitudes1))"
   ]
  },
  {
   "cell_type": "markdown",
   "id": "102d3c15-0b4f-48a7-8fdc-f896c1841aca",
   "metadata": {},
   "source": [
    "## 3.3 Time Until the Limit\n",
    "1) Write a **function** which inputs a list of star magnitudes (brightnesses) and time limit.\n",
    "   - Make your time limit a default argument.\n",
    "2) Inside your function, make a counter called `total time` and set it to 0.\n",
    "3) Inside your function, use a `while` loop to set the time limit of your observation.\n",
    "4) Inside your function, use assigment operators to update the `total time` observed. \n",
    "5) Inside your function, use a `condition` to skip stars with magnitude 20 or greater. \n",
    "6) Have your function return the **number of stars that can be observed** within the time limit and **how long the observation will take** (this should be less than the time limit).\n",
    "7) Test out your function with the **given** magnitude values and time limit."
   ]
  },
  {
   "cell_type": "code",
   "execution_count": 15,
   "id": "5a541a62-0903-41bd-91c9-ee21172069a3",
   "metadata": {},
   "outputs": [
    {
     "name": "stdout",
     "output_type": "stream",
     "text": [
      " the number of stars observed is 0, the total time taken to observe the stars was 0 seconds.\n"
     ]
    }
   ],
   "source": [
    "def stars_and_time_required_to_see_them(magnitudes, time_limit=500):\n",
    "    #returns the number of stars that can be observed within the time limit and how long the observation will take.\n",
    "    #The number of stars should be zero--the sun is the only star that can be observed in the given time limit from earth.\n",
    "    #for reference, the sun's apparent magnitude is -26.74, the largest apparent magnitude in the list is 10.5.\n",
    "    total_time = 0\n",
    "    stars_observed = 0\n",
    "\n",
    "    i = 0\n",
    "\n",
    "    while total_time < time_limit and i < len(magnitudes):\n",
    "        magnitude = magnitudes[i]\n",
    "        if magnitude < 20:\n",
    "            observation_time = (1/(10 ** (magnitude / -2.5)))\n",
    "            if total_time + observation_time <= time_limit:\n",
    "                total_time += observation_time\n",
    "                stars_observed += 1\n",
    "        i += 1\n",
    "\n",
    "    return f\" the number of stars observed is {stars_observed}, the total time taken to observe the stars was {total_time} seconds.\"\n",
    "magnitudes1 = [12.5, 13.2, 14.8, 19.1, 21.0, 18.5, 15.3, 10.5, 23.0]\n",
    "print(stars_and_time_required_to_see_them(magnitudes1))"
   ]
  },
  {
   "cell_type": "markdown",
   "id": "d2ab246f-9570-483e-b35b-cf1056f20936",
   "metadata": {},
   "source": [
    "## 3.4 Call Upon Your Functions\n",
    "You do not need to rewrite your functions once you have written them! That's what is so awesome about **functions**! \n",
    "\n",
    "1) With a new test case (different magnitudes and time limit) call your three functions you wrote above.\n",
    "2) Print out their return statements, example:\n",
    "\n",
    "```\n",
    ">>> my_return = my_function(my_argument):\n",
    ">>> print(my_return)\n",
    "```"
   ]
  },
  {
   "cell_type": "code",
   "execution_count": 20,
   "id": "4c4c9389-04f5-49bc-823c-a12d6c003b60",
   "metadata": {},
   "outputs": [
    {
     "name": "stdout",
     "output_type": "stream",
     "text": [
      " the number of stars observed is 7, the total time taken to observe the stars was 86.17258216279936 seconds.\n",
      "Total observation time : 1010086.1725821628, Individual observation times: [4.365158322401657e-06, 6.918309709189362e-12, 2.7542287033381746e-13, 0.06309573444801933, 85.50667128846831, 0.6025595860743578, 0.00025118864315095795, 1000000.0, 10000.0]\n",
      "(3775324757860.953, [229086.76527677747, 144543977074.5928, 3630780547701.003, 15.848931924611133, 0.011694993910198712, 1.6595869074375607, 3981.0717055349733, 1e-06, 0.0001])\n"
     ]
    }
   ],
   "source": [
    "magnitudes2 = [-13.4, -27.9, -31.4, -3, 4.83, -0.55, -9, 15, 10] #apparent magnitudes\n",
    "time_limit = 3600 #seconds\n",
    "\n",
    "print(stars_and_time_required_to_see_them(magnitudes2, time_limit=3600))\n",
    "\n",
    "print(observation_time_of_stars(magnitudes2))\n",
    "\n",
    "print(calculate_star_brightness(magnitudes2))"
   ]
  },
  {
   "cell_type": "markdown",
   "id": "daba92d4-a646-4efc-824d-85b52ea3c573",
   "metadata": {},
   "source": [
    "# 4 Debug the Quadratic Function!\n",
    "The code below does not follow proper coding hygiene (good coding sklls) and is riddled with bugs! Answer the following question and follow the steps below:\n",
    "1) When you run the cell, what is the first error you get? What does this mean? What are three other things wrong with this function?\n",
    "2) Fix the bugs! No importing packages.\n",
    "3) Rewrite the code, such that it follows \"good coding skills\".\n",
    "\n",
    "Try out the test case of `a = 2`, `b = -5` and `c = 3`. You should get `(1.5, 1.0)`. Try out your own test case as well."
   ]
  },
  {
   "cell_type": "code",
   "execution_count": 5,
   "id": "cd66dd28-f8d3-447c-8d20-ff3e31bfaa07",
   "metadata": {},
   "outputs": [
    {
     "name": "stdout",
     "output_type": "stream",
     "text": [
      "(1.0,)\n"
     ]
    }
   ],
   "source": [
    "#I accidentally deleted the entirety of what was here and did too many things before I could undo my mistake so I just\n",
    "#made my own quadratic formula function\n",
    "def quadratic(a, b, c):\n",
    "    # Gives me the roots of a quadratic equation, real or imaginary\n",
    "    # Calculate the discriminant (b^2 - 4ac)\n",
    "    discriminant = b**2 - 4*a*c\n",
    "    \n",
    "    # Check if discriminant is positive, zero, or negative\n",
    "    if discriminant > 0:\n",
    "        # Two real solutions\n",
    "        root1 = (-b + discriminant**0.5) / (2*a)\n",
    "        root2 = (-b - discriminant**0.5) / (2*a)\n",
    "        return root1, root2\n",
    "    elif discriminant == 0:\n",
    "        # One real solution\n",
    "        root = -b / (2*a)\n",
    "        return root,\n",
    "    else:\n",
    "        # No real solutions (complex roots)\n",
    "        realPart = -b / (2*a)\n",
    "        imaginaryPart = (abs(discriminant)**0.5) / (2*a)\n",
    "        return (realPart + imaginaryPart*1j, realPart - imaginaryPart*1j)\n",
    "\n",
    "# Example\n",
    "a = 1\n",
    "b = -2\n",
    "c = 1\n",
    "solutions = quadratic(a, b, c)\n",
    "print(solutions)\n"
   ]
  },
  {
   "cell_type": "markdown",
   "id": "8cf33b19-9bca-484e-8129-d8a4896a1bfa",
   "metadata": {},
   "source": [
    "# 5 Proper Submission\n",
    "To recieve full credit for this assignment make sure you do the following:\n",
    "1) Copy this jupter notebook from the `ulab_2024` repository into **YOUR** local `homework` branch.\n",
    "   \n",
    "3) Follow the tasks. Make sure to run all the cells so that all output is visible.\n",
    "   \n",
    "5) Push this notebook to your remote `homework6` branch. Refer to the lecture slides for more information.\n",
    "      \n",
    "6) **WARNING!! IF YOU DO NOT FOLLOW THIS STEP YOU WILL RECIEVE A ZERO!**\n",
    "   1) Take a screenshot of your command line when you `push` this notebook from your local `homework6` branch to your remote `homework6` branch. Make sure to prove that you are inside a branch besides `main` or `master` by calling `git branch` and make sure to prove that your `homework6` branch only contains the homework4 folder of Jupyter Notebook you copied over from `ulab_2024` (which can be done by calling `ls`). You could also call `git status` before/after as a way to prove you pushed the proper files to the correct branches.\n",
    "   2)  Include that screenshot in your remote branch when you upload your GitHub branch to Gradescope!"
   ]
  },
  {
   "cell_type": "code",
   "execution_count": null,
   "id": "b0926042-d1cf-4a2e-8fc8-d93395a6a7cf",
   "metadata": {},
   "outputs": [],
   "source": []
  }
 ],
 "metadata": {
  "kernelspec": {
   "display_name": "Python 3 (ipykernel)",
   "language": "python",
   "name": "python3"
  },
  "language_info": {
   "codemirror_mode": {
    "name": "ipython",
    "version": 3
   },
   "file_extension": ".py",
   "mimetype": "text/x-python",
   "name": "python",
   "nbconvert_exporter": "python",
   "pygments_lexer": "ipython3",
   "version": "3.12.4"
  }
 },
 "nbformat": 4,
 "nbformat_minor": 5
}
