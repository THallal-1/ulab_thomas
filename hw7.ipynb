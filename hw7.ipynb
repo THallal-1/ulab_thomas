{
 "cells": [
  {
   "cell_type": "markdown",
   "id": "21a1f0d2-d75c-4443-b816-1d1db3760454",
   "metadata": {},
   "source": [
    "# HW 7 - Libraries + Modules\n",
    "ULAB - Physics and Astronomy Division \\\n",
    "Due **Wednesday, November 6th, 2024 at 11:59pm** on Gradescope\n",
    "\n",
    "--------------------------------------------------------------\n",
    "\n",
    "## Module vs. Package vs. Library\n",
    "### Module\n",
    "A **module** is a single file containing Python code (typically ending in a `.py` extension) that contains functions and variables. \n",
    "- They can be imported into other Python files or notebooks\n",
    "- You use modules to organize code into smaller, reuseable parts\n",
    "- Ex: `even_sum.py` that we created during lecture.\n",
    "\n",
    "*You will create your OWN module for this homework and use that we made during class.*\n",
    "\n",
    "### Package\n",
    "A **package** is a group of modules, organized like a directory. \n",
    "- A package requires a special `__init__.py` file to tell Python that the ENTIRE directory is something you would like to import.\n",
    "- Packages can contain sub-pacakges\n",
    "- Ex: `BAGLE_Microlensing` is an example of a package (if you are in Dex's group, this should be familar to you). Or you could think of `paarti` if you are in Brianna's group.\n",
    "\n",
    "*You will NOT be working with a package for this homework.*\n",
    "\n",
    "### Library\n",
    "A **library** is a much broader term that also refers to a collection of modules (like a package) but a library can also contain mulitple packages. \n",
    "- Libraries serve a much wider range of functionality for\n",
    "- Programmers use packages to have ready-to-go tools that can be used for data manipulation, web development, machine learning or simulations.\n",
    "- Ex: `numpy` is a very common library. Later in this course we will also be working some of the following libraries `matplotlib`, `scipy`, and `astropy`, `pandas`, etc\n",
    "\n",
    "*You WILL be working with the extensive numpy library for this homework!*\n",
    "\n",
    "--------------------------------------------------------------"
   ]
  },
  {
   "cell_type": "markdown",
   "id": "8dc7e46b-1e8e-486c-a2e9-d615c687028b",
   "metadata": {},
   "source": [
    "# 1 NumPy\n",
    "**NumPy** (aka Numerical Python) is a library that was designed for caring out computations in Python. \n",
    "\n",
    "We did not have a ton of time to work through examples during class, so I will ask that you check out this website for more information: https://numpy.org/doc/ \n",
    "\n",
    "Before we can work through any problems, you need to call the following in your notebook:"
   ]
  },
  {
   "cell_type": "code",
   "execution_count": null,
   "id": "08dabd73-3dbc-4aab-843a-d4b81102835d",
   "metadata": {},
   "outputs": [],
   "source": [
    "import numpy as np"
   ]
  },
  {
   "cell_type": "markdown",
   "id": "92c77920-20fc-455e-bf52-10b5a518ed2d",
   "metadata": {},
   "source": [
    "## 1.1 Lists vs. Arrays\n",
    "*When I first started working with NumPy I didn't understand what was so special about arrays. This homework problem should help illustrate the difference. Make sure to follow each step and follow good coding practices.*\n",
    "\n",
    "1) Make a list called `my_list` and make an array called `my_arr` with the same values. There is an example below, but don't copy mine! Ex:\n",
    "```\n",
    "my_list = [11, 12, 13, 14, 15]\n",
    "my_arr = np.array([11, 12, 13, 14, 15])\n",
    "```\n",
    "*Notice that to use the `numpy` package we had to call its short cut `np` and then call upon its funciton `.array()`. This is similar to working with a built-in python function like `.append()`.*"
   ]
  },
  {
   "cell_type": "code",
   "execution_count": 1,
   "id": "494f31ac-a231-4f65-b202-e85208d6bee4",
   "metadata": {},
   "outputs": [
    {
     "name": "stdout",
     "output_type": "stream",
     "text": [
      "List: [1, 2, 3, 4, 5]\n",
      "Array: [1 2 3 4 5]\n"
     ]
    }
   ],
   "source": [
    "import numpy as np\n",
    "\n",
    "# Creating the list\n",
    "my_list = [1, 2, 3, 4, 5]\n",
    "\n",
    "# Creating an array with the same values\n",
    "my_arr = np.array(my_list)\n",
    "\n",
    "# Displaying both\n",
    "print(\"List:\", my_list)\n",
    "print(\"Array:\", my_arr)\n"
   ]
  },
  {
   "cell_type": "markdown",
   "id": "861d42c4-411e-4ef9-b85c-68e1f61c4fcb",
   "metadata": {},
   "source": [
    "2) Multiply `my_list` by 4 and multiply `my_arr` by 4. Print the results. Describe what happens in a comment."
   ]
  },
  {
   "cell_type": "code",
   "execution_count": 2,
   "id": "79245f57-3a83-4300-96d2-ea7a9035d3eb",
   "metadata": {},
   "outputs": [
    {
     "name": "stdout",
     "output_type": "stream",
     "text": [
      "List multiplied by 4: [1, 2, 3, 4, 5, 1, 2, 3, 4, 5, 1, 2, 3, 4, 5, 1, 2, 3, 4, 5]\n",
      "array multiplied by 4: [ 4  8 12 16 20]\n"
     ]
    }
   ],
   "source": [
    "import numpy as np\n",
    "\n",
    "# Creating a list\n",
    "my_list = [1, 2, 3, 4, 5]\n",
    "\n",
    "# Creating an array with the same values\n",
    "my_arr = np.array(my_list)\n",
    "\n",
    "# Multiply the list by 4\n",
    "list_result = my_list * 4\n",
    "\n",
    "# Multiply the NumPy array by 4\n",
    "arr_result = my_arr * 4\n",
    "\n",
    "# Print the results\n",
    "print(\"List multiplied by 4:\", list_result)\n",
    "print(\"array multiplied by 4:\", arr_result)\n",
    "\n",
    "# Explanation:\n",
    "# When we multiply a list by 4, it repeats the list 4 times.\n",
    "# When we multiply an array by 4, it multiplies each element of the array by 4.\n"
   ]
  },
  {
   "cell_type": "markdown",
   "id": "aa2dc2fb-7a26-42e8-90db-18d1598f4d7c",
   "metadata": {},
   "source": [
    "3) Add `my_list` with `my_list`. Add `my_arr` with `my_arr`. Add `my_list` with `my_arr`. Print the results. Describe what happens in a comment."
   ]
  },
  {
   "cell_type": "code",
   "execution_count": 4,
   "id": "9f18f22e-3137-4aa9-b623-6d2c0caec4c3",
   "metadata": {},
   "outputs": [
    {
     "name": "stdout",
     "output_type": "stream",
     "text": [
      "List added with itself: [1, 2, 3, 4, 5, 1, 2, 3, 4, 5]\n",
      "array added with itself: [ 2  4  6  8 10]\n",
      "List added with NumPy array: [ 2  4  6  8 10]\n"
     ]
    }
   ],
   "source": [
    "import numpy as np\n",
    "\n",
    "# Creating a list\n",
    "my_list = [1, 2, 3, 4, 5]\n",
    "\n",
    "# Creating a NumPy array with the same values\n",
    "my_arr = np.array(my_list)\n",
    "\n",
    "# Add the list with itself\n",
    "list_sum = my_list + my_list\n",
    "\n",
    "# Add the NumPy array with itself\n",
    "arr_sum = my_arr + my_arr\n",
    "\n",
    "# Add the list with the NumPy array\n",
    "# This will cause a TypeError because Python lists and NumPy arrays are different types\n",
    "try:\n",
    "    list_arr_sum = my_list + my_arr\n",
    "except TypeError as e:\n",
    "    list_arr_sum = str(e)\n",
    "\n",
    "# Print the results\n",
    "print(\"List added with itself:\", list_sum)\n",
    "print(\"array added with itself:\", arr_sum)\n",
    "print(\"List added with array:\", list_arr_sum)\n",
    "\n",
    "# Explanation:\n",
    "# - Adding a Python list with itself results in the list being concatenated with itself (repeated).\n",
    "# - Adding a NumPy array with itself performs element-wise addition.\n",
    "# - Adding a Python list with a NumPy array results in a TypeError because they are different types.\n"
   ]
  },
  {
   "cell_type": "markdown",
   "id": "3be18720-756f-43d1-bad7-bd85e138ef7e",
   "metadata": {},
   "source": [
    "4) Subtract `my_list` with `my_list`. Subtract `my_arr` with `my_arr`. Subtract `my_list` with `my_arr`. Print the results. Describe what happens in a comment."
   ]
  },
  {
   "cell_type": "code",
   "execution_count": 10,
   "id": "131b09c8-d352-4566-b710-31316483ae89",
   "metadata": {},
   "outputs": [
    {
     "name": "stdout",
     "output_type": "stream",
     "text": [
      "List subtracted from itself: unsupported operand type(s) for -: 'list' and 'list'\n",
      "NumPy array subtracted from itself: [0 0 0 0 0]\n",
      "List subtracted from NumPy array: [0 0 0 0 0]\n"
     ]
    }
   ],
   "source": [
    "import numpy as np\n",
    "\n",
    "# Creating a list\n",
    "my_list = [1, 2, 3, 4, 5]\n",
    "\n",
    "# Creating a NumPy array with the same values\n",
    "my_arr = np.array(my_list)\n",
    "\n",
    "# Subtract the list from itself (This will raise an error)\n",
    "try:\n",
    "    list_subtraction = my_list - my_list\n",
    "except TypeError as e:\n",
    "    list_subtraction = str(e)\n",
    "\n",
    "# Subtract the NumPy array from itself\n",
    "arr_subtraction = my_arr - my_arr\n",
    "\n",
    "# Subtract the list from the NumPy array (This will raise an error)\n",
    "try:\n",
    "    list_arr_subtraction = my_list - my_arr\n",
    "except TypeError as e:\n",
    "    list_arr_subtraction = str(e)\n",
    "\n",
    "# Print the results\n",
    "print(\"List subtracted from itself:\", list_subtraction)\n",
    "print(\"NumPy array subtracted from itself:\", arr_subtraction)\n",
    "print(\"List subtracted from NumPy array:\", list_arr_subtraction)\n",
    "\n",
    "# Explanation:\n",
    "# - Subtracting a Python list from itself will raise a TypeError, as Python lists do not support subtraction directly.\n",
    "# - Subtracting a NumPy array from itself will result in an array of zeros, as each element is subtracted by itself.\n",
    "# - Subtracting a Python list from a NumPy array raises a TypeError because they are different types and cannot be directly subtracted.\n"
   ]
  },
  {
   "cell_type": "markdown",
   "id": "9089eff6-4251-4a52-b263-c77b11343ece",
   "metadata": {},
   "source": [
    "5) Multiply `my_list` with `my_list`. Multply `my_arr` with `my_arr`. Multiply `my_list` with `my_arr`. Print the results. Describe what happens in a comment."
   ]
  },
  {
   "cell_type": "code",
   "execution_count": 9,
   "id": "cae7749f-cc6e-45d6-9e07-72aa2cefc0b6",
   "metadata": {},
   "outputs": [
    {
     "name": "stdout",
     "output_type": "stream",
     "text": [
      "List multiplied with itself: can't multiply sequence by non-int of type 'list'\n",
      "NumPy array multiplied with itself: [ 1  4  9 16 25]\n",
      "List multiplied by NumPy array: [ 1  4  9 16 25]\n"
     ]
    }
   ],
   "source": [
    "import numpy as np\n",
    "\n",
    "# Creating a list\n",
    "my_list = [1, 2, 3, 4, 5]\n",
    "\n",
    "# Creating a NumPy array with the same values\n",
    "my_arr = np.array(my_list)\n",
    "\n",
    "# Multiply the list with itself\n",
    "try:\n",
    "    list_product = my_list * my_list\n",
    "except TypeError as e:\n",
    "    list_product = str(e)\n",
    "\n",
    "# Multiply the NumPy array with itself\n",
    "arr_product = my_arr * my_arr\n",
    "\n",
    "# Multiply the list with the NumPy array (This will raise an error)\n",
    "try:\n",
    "    list_arr_product = my_list * my_arr\n",
    "except TypeError as e:\n",
    "    list_arr_product = str(e)\n",
    "\n",
    "# Print the results\n",
    "print(\"List multiplied with itself:\", list_product)\n",
    "print(\"NumPy array multiplied with itself:\", arr_product)\n",
    "print(\"List multiplied by NumPy array:\", list_arr_product)\n",
    "\n",
    "# Explanation:\n",
    "# - When you multiply a Python list by another list, it will result in a TypeError because lists do not support element-wise multiplication.\n",
    "# - When you multiply a NumPy array by itself, it performs element-wise multiplication, resulting in a new array where each element is squared.\n",
    "# - Multiplying a Python list with a NumPy array raises a TypeError because they are different types, and multiplication isn't defined for them directly.\n"
   ]
  },
  {
   "cell_type": "markdown",
   "id": "55175f6e-e6b2-41b1-8015-5f1b099664e8",
   "metadata": {},
   "source": [
    "7) Divide `my_list` with `my_list`. Divide `my_arr` with `my_arr`. Divide `my_list` with `my_arr`. Print the results. Describe what happens in a comment."
   ]
  },
  {
   "cell_type": "code",
   "execution_count": 8,
   "id": "ccdc8e13-ec41-4b79-8034-0934c012580e",
   "metadata": {},
   "outputs": [
    {
     "name": "stdout",
     "output_type": "stream",
     "text": [
      "List divided by itself: unsupported operand type(s) for /: 'list' and 'list'\n",
      "array divided by itself: [1. 1. 1. 1. 1.]\n",
      "List divided by array: [1. 1. 1. 1. 1.]\n"
     ]
    }
   ],
   "source": [
    "import numpy as np\n",
    "\n",
    "# Creating a list\n",
    "my_list = [1, 2, 3, 4, 5]\n",
    "\n",
    "# Creating a array with the same values\n",
    "my_arr = np.array(my_list)\n",
    "\n",
    "# Divide the list by itself (This will raise an error)\n",
    "try:\n",
    "    list_division = my_list / my_list\n",
    "except TypeError as e:\n",
    "    list_division = str(e)\n",
    "\n",
    "# Divide the array by itself\n",
    "arr_division = my_arr / my_arr\n",
    "\n",
    "# Divide the list by the array (This will raise an error)\n",
    "try:\n",
    "    list_arr_division = my_list / my_arr\n",
    "except TypeError as e:\n",
    "    list_arr_division = str(e)\n",
    "\n",
    "# Print the results\n",
    "print(\"List divided by itself:\", list_division)\n",
    "print(\"array divided by itself:\", arr_division)\n",
    "print(\"List divided by array:\", list_arr_division)\n",
    "\n",
    "# Explanation:\n",
    "# - Dividing a Python list by itself will raise a TypeError, as Python lists do not support division directly.\n",
    "# - Dividing a NumPy array by itself will result in an array of ones (since any number divided by itself is 1).\n",
    "# - Dividing a Python list by a NumPy array raises a TypeError because they are different types and cannot be directly divided.\n"
   ]
  },
  {
   "cell_type": "markdown",
   "id": "1fb261e6-b99b-4e36-953a-e899da010469",
   "metadata": {},
   "source": [
    "8) After working through this problem, in at least two sentences, describe the difference between a list and an array."
   ]
  },
  {
   "cell_type": "code",
   "execution_count": 33,
   "id": "d702ddad-c84d-43d5-9fe0-d10b9083bf85",
   "metadata": {},
   "outputs": [],
   "source": [
    "# An array operates more like a matrix would than a list which operates like a set.\n",
    "# For example you cannot subtract lists or multiply them or divide them but you can for arrays."
   ]
  },
  {
   "cell_type": "markdown",
   "id": "fdbccced-d3f0-4948-be6e-471028979576",
   "metadata": {},
   "source": [
    "## 1.2 Nested List and Multi-Dimensional Arrays\n",
    "A **nested list** is when you have a list as an element for a list. Example:\n",
    "```\n",
    "nested_list = [[1, 2, 3], [4, 5, 6]]\n",
    "```\n",
    "\n",
    "A **multi-dimensional array** is essentially a nested list, but it contains the properties of a matrix. Example:\n",
    "```\n",
    "multi_d_array = np.array([[1, 2, 3], [4, 5, 6]])\n",
    "```\n",
    "\n",
    "Go to this website for more information on NumPy: https://www.w3schools.com/python/numpy/default.asp\n",
    "\n",
    "Write a **function** that takes in a two-dimensional array. Example:\n",
    "\n",
    "```\n",
    "arr3 = np.array([[2, 4, 6], [8, 10, 12], [14, 16, 18]])\n",
    "```\n",
    "\n",
    "and then returns the second value in each row. Example:\n",
    "\n",
    "```\n",
    "[4, 10, 16]\n",
    "```"
   ]
  },
  {
   "cell_type": "code",
   "execution_count": 11,
   "id": "e6d45993-2390-4e2d-bb6e-930919dd7d46",
   "metadata": {
    "scrolled": true
   },
   "outputs": [
    {
     "name": "stdout",
     "output_type": "stream",
     "text": [
      "Sum of each row: [ 6 15 24]\n"
     ]
    }
   ],
   "source": [
    "import numpy as np\n",
    "\n",
    "def sum_rows_2d(array):\n",
    "    \"\"\"\n",
    "    Function to compute the sum of each row in a 2D array.\n",
    "    \n",
    "    Parameters:\n",
    "    array (2D array-like): The input two-dimensional array (list of lists or NumPy array).\n",
    "    \n",
    "    Returns:\n",
    "    list: A list containing the sum of each row in the input 2D array.\n",
    "    \"\"\"\n",
    "    # Ensure the input is a NumPy array for ease of operations\n",
    "    array = np.array(array)\n",
    "    \n",
    "    # Compute the sum of each row using np.sum with axis=1 (axis=1 refers to rows)\n",
    "    row_sums = np.sum(array, axis=1)\n",
    "    \n",
    "    return row_sums\n",
    "\n",
    "# Example usage:\n",
    "# Defining a 2D list (matrix)\n",
    "my_2d_array = [[1, 2, 3], [4, 5, 6], [7, 8, 9]]\n",
    "\n",
    "# Call the function with the 2D array\n",
    "result = sum_rows_2d(my_2d_array)\n",
    "\n",
    "# Print the result\n",
    "print(\"Sum of each row:\", result)\n"
   ]
  },
  {
   "cell_type": "markdown",
   "id": "e5c0700d-def9-4afe-86f5-0a4b8862c0b4",
   "metadata": {},
   "source": [
    "In 2-3 sentences, describe what section of the website helped you write your function. "
   ]
  },
  {
   "cell_type": "code",
   "execution_count": null,
   "id": "179c2c8d-3493-40a5-931f-7a92be8551a6",
   "metadata": {},
   "outputs": [],
   "source": [
    "# The section on NumPy Arrays from the W3Schools website helped me write the function by explaining how to work with \n",
    "# 2D arrays (or matrices) in NumPy. \n",
    "# Specifically, the examples showing how to use np.array() to convert lists into arrays and np.sum(axis=1) for summing \n",
    "# across rows illustrated how to add my arrays.\n",
    "\n",
    "# For the question below\n",
    "\n",
    "def second_value_each_row(nested_list):\n",
    "    # Use list comprehension to extract the second element from each row\n",
    "    return [row[1] for row in nested_list if len(row) > 1]\n",
    "\n",
    "# Example usage\n",
    "nested_list = [[1, 2, 3], [4, 5, 6], [7, 8]]\n",
    "result = second_value_each_row(nested_list)\n",
    "print(result)  # Output: [2, 5, 8]\n",
    "\n",
    "# The function second_value_each_row iterates through each row in the nested_list and extracts the second value \n",
    "# (row[1]).\n",
    "# The condition if len(row) > 1 ensures that rows with at least two elements are included, preventing an IndexError \n",
    "# for rows with fewer than two elements.\n",
    "\n"
   ]
  },
  {
   "cell_type": "markdown",
   "id": "2bee5ead-232c-495c-8e42-1721bd315957",
   "metadata": {},
   "source": [
    "How would you take a nested list and return the second value in each row? Explain in 2-3 sentences and show an example."
   ]
  },
  {
   "cell_type": "markdown",
   "id": "25eaeadc-b09d-4ca8-9849-822879abdad2",
   "metadata": {},
   "source": [
    "## 1.3 Up to You!\n",
    "With the website I just gave you: https://www.w3schools.com/python/numpy/default.asp\n",
    "\n",
    "I recommend working through the examples they provide (you don't have to do all of them, but a few would be good). It will help you build an intuition for numpy. It won't take very long, there are only a couple of examples per section.\n",
    "\n",
    "Write you own **function** that follows the theme of one of the sections (i.e. array reshaping, array filter, random intro, etc). For example, if you are curious about the section \"**NumPy Creating Arrays**\" you could write a function that creates a multi-dimensional array.\n",
    "\n",
    "```\n",
    "\n",
    ">>> def make_multi_dimensional_array(one_d_array, dimensions):\n",
    "...     # Creates a multi-dimensional array\n",
    "...     # Your code here\n",
    "...     return # Your code here\n",
    "\n",
    ">>> my_one_d_array = [2, 4, 6, 8]\n",
    ">>> my_dimension = 10\n",
    ">>> ten_d_array = make_multi_dimensional_array(my_one_d_array, my_dimension)\n",
    ">>> print(ten_d_array)\n",
    "[[[[[[[[[[2 4 6 8]]]]]]]]]]\n",
    "\n",
    "```\n",
    "\n",
    "Your function should be more detailed than the example I gave you. Include at least one of the following: \n",
    "- a conditional statement\n",
    "- an assignment operator\n",
    "- a loop (`for` or `while`)\n",
    "- `if`, `elif`, `else`, statement"
   ]
  },
  {
   "cell_type": "code",
   "execution_count": 13,
   "id": "359f524a-30ee-446c-a6d6-a57faecf5bcb",
   "metadata": {},
   "outputs": [
    {
     "name": "stdout",
     "output_type": "stream",
     "text": [
      "Row [1 2 3] has been filtered out (sum = 6)\n",
      "Row [1 1 1] has been filtered out (sum = 3)\n",
      "\n",
      "Filtered Rows (Sum >= threshold):\n",
      "[[ 4  5  6]\n",
      " [10 20 30]]\n"
     ]
    }
   ],
   "source": [
    "import numpy as np\n",
    "\n",
    "def filter_rows_by_sum(array, threshold):\n",
    "    \"\"\"\n",
    "    Function to filter rows of a 2D array based on the sum of the elements.\n",
    "    Keeps only rows where the sum of the elements is greater than or equal to the threshold.\n",
    "    \n",
    "    Parameters:\n",
    "    array (2D array-like): The input two-dimensional array (list of lists or NumPy array).\n",
    "    threshold (int or float): The threshold for the sum of each row.\n",
    "    \n",
    "    Returns:\n",
    "    np.ndarray: A new 2D NumPy array containing only the rows that meet the condition.\n",
    "    \"\"\"\n",
    "    # Ensure the input is a NumPy array (in case it is passed as a list of lists)\n",
    "    array = np.array(array)\n",
    "    \n",
    "    # Create an empty list to store rows that meet the condition\n",
    "    filtered_rows = []\n",
    "\n",
    "    # Iterate through each row in the 2D array\n",
    "    for row in array:\n",
    "        # Calculate the sum of elements in the current row\n",
    "        row_sum = np.sum(row)\n",
    "        \n",
    "        # Check if the sum of the current row is greater than or equal to the threshold\n",
    "        if row_sum >= threshold:\n",
    "            # If the condition is met, add this row to the filtered list\n",
    "            filtered_rows.append(row)\n",
    "        else:\n",
    "            # If the condition is not met, you can print it or perform other actions\n",
    "            print(f\"Row {row} has been filtered out (sum = {row_sum})\")\n",
    "\n",
    "    # Convert the filtered rows list back to a NumPy array and return it\n",
    "    return np.array(filtered_rows)\n",
    "\n",
    "\n",
    "# Example usage\n",
    "# Define a 2D array\n",
    "array_2d = [\n",
    "    [1, 2, 3],    # Sum = 6\n",
    "    [4, 5, 6],    # Sum = 15\n",
    "    [1, 1, 1],    # Sum = 3\n",
    "    [10, 20, 30]  # Sum = 60\n",
    "]\n",
    "\n",
    "# Set the threshold value\n",
    "threshold_value = 10\n",
    "\n",
    "# Call the function and print the filtered result\n",
    "filtered_array = filter_rows_by_sum(array_2d, threshold_value)\n",
    "print(\"\\nFiltered Rows (Sum >= threshold):\")\n",
    "print(filtered_array)\n"
   ]
  },
  {
   "cell_type": "markdown",
   "id": "88df7c51-0196-42b5-aabf-5068bc6ad675",
   "metadata": {},
   "source": [
    "In the section you took inspiration from, show all of the examples below. Follow good coding practices and give at least two test cases for each example. Don't forget comments! \\\n",
    "\\\n",
    "*For my example, I took inspiration from **NumPy Creating Arrays** so I would show following examples with DIFFERENT test cases: Create a NumPy ndarray Object, Dimensions in Arrays ,0-D Arrays, 1-D Arrays, 2-D Arrays, 3-D Arrays, Check Number of Dimensions, Higher Dimensional Arrays.*"
   ]
  },
  {
   "cell_type": "code",
   "execution_count": 14,
   "id": "193b91b8-de1d-4aee-af90-6a0e10930b55",
   "metadata": {},
   "outputs": [
    {
     "name": "stdout",
     "output_type": "stream",
     "text": [
      "Test Case 1 - Matrix Multiplication using np.dot:\n",
      " [[19 22]\n",
      " [43 50]]\n",
      "Test Case 2 - Matrix Multiplication using @ operator:\n",
      " [[19 22]\n",
      " [43 50]]\n"
     ]
    }
   ],
   "source": [
    "def matrix_multiplication():\n",
    "    # Test Case 1: Matrix multiplication with np.dot\n",
    "    matrix1 = np.array([[1, 2], [3, 4]])\n",
    "    matrix2 = np.array([[5, 6], [7, 8]])\n",
    "    result_matrix = np.dot(matrix1, matrix2)\n",
    "    print(\"Test Case 1 - Matrix Multiplication using np.dot:\\n\", result_matrix)\n",
    "    \n",
    "    # Test Case 2: Matrix multiplication using @ operator\n",
    "    result_matrix_2 = matrix1 @ matrix2\n",
    "    print(\"Test Case 2 - Matrix Multiplication using @ operator:\\n\", result_matrix_2)\n",
    "\n",
    "matrix_multiplication()\n"
   ]
  },
  {
   "cell_type": "markdown",
   "id": "c90148dc-cac4-4322-86ff-5b112bae306f",
   "metadata": {},
   "source": [
    "In 2-3 sentences, describe how your function took inspiration from a section.\\\n",
    "\\\n",
    "*For my example, `make_multi_dimensional_array`, I would talk about the **NumPy Creating Arrays** section and how I took inspiration from the example **Higher Dimensional Arrays**.*"
   ]
  },
  {
   "cell_type": "code",
   "execution_count": 37,
   "id": "fe11ac2d-dcdb-4e51-9460-c3cc1be48bef",
   "metadata": {},
   "outputs": [],
   "source": [
    "#My matrix_multiplication function took inspiration from the Matrix Multiplication section of the NumPy \n",
    "# tutorial. It demonstrates how to perform matrix multiplication using both the np.dot() function and the @ operator, \n",
    "# which are essential for linear algebra in NumPy. The function covers how these methods handle 2D array \n",
    "# multiplication, ensuring that the result is computed correctly for both row-by-column and element-wise operations.\n",
    "\n",
    "\n",
    "\n"
   ]
  },
  {
   "cell_type": "markdown",
   "id": "8a834fd4-ef1b-4464-a07a-76e08a1c81c8",
   "metadata": {},
   "source": [
    "# 2 Brianna's Module\n",
    "During lecture we created and worked with a module called `even_sum.py`. Import that module here. "
   ]
  },
  {
   "cell_type": "code",
   "execution_count": 22,
   "id": "66e2a829-e478-4c97-8412-846cd93161f8",
   "metadata": {},
   "outputs": [],
   "source": [
    "# Directly import the function from the even_sum module\n",
    "from even_sum import sum_even_numbers"
   ]
  },
  {
   "cell_type": "markdown",
   "id": "210ee2c2-9b81-4ea4-bbe7-2d1fa94d646e",
   "metadata": {},
   "source": [
    "Now that you have imported the module. Call the module and the first function with your own list of numbers. "
   ]
  },
  {
   "cell_type": "code",
   "execution_count": 23,
   "id": "89ad196d-5948-4e20-899a-d31eebdc4f2a",
   "metadata": {},
   "outputs": [
    {
     "name": "stdout",
     "output_type": "stream",
     "text": [
      "The sum of even numbers in the list is: 186\n"
     ]
    }
   ],
   "source": [
    "\n",
    "# Define own list of numbers  (can modify this as needed)\n",
    "numbers = [10, 15, 22, 30, 37, 50, 61, 74, 81, 99]\n",
    "\n",
    "# Call the sum_even_numbers function with list of numbers\n",
    "result = sum_even_numbers(numbers)\n",
    "\n",
    "# Print the result\n",
    "print(f\"The sum of even numbers in the list is: {result}\")\n"
   ]
  },
  {
   "cell_type": "markdown",
   "id": "110d3cb8-b809-467b-9447-57810e4e3853",
   "metadata": {},
   "source": [
    "I have provided you a separate module called `example.py`. Import that module here."
   ]
  },
  {
   "cell_type": "code",
   "execution_count": 44,
   "id": "092eb2b9-dd15-4fdf-a7a2-ad32cd22ed88",
   "metadata": {},
   "outputs": [],
   "source": [
    "from example import rocket_launch \n",
    "from example import orbital_velocity \n",
    "from example import escape_velocity"
   ]
  },
  {
   "cell_type": "markdown",
   "id": "a6922f89-01e7-41af-82e2-4236daa103b1",
   "metadata": {},
   "source": [
    "With the following variables, use my module to show which of the rocket's escape!"
   ]
  },
  {
   "cell_type": "code",
   "execution_count": 46,
   "id": "6b2e8b39-8441-469a-a128-19b04b8c8a2f",
   "metadata": {},
   "outputs": [
    {
     "name": "stdout",
     "output_type": "stream",
     "text": [
      "Rocket 1: Rocket crashes back into the planet!\n",
      "Rocket 2: Rocket is orbiting around the planet.\n",
      "Rocket 3: Rocket left the planet!\n",
      "Rocket 4: Rocket left the planet!\n"
     ]
    }
   ],
   "source": [
    "#Code really did not want to work and kept giving me the same error even when I altered the function and re imported it\n",
    "#so I'm writing my own code for this, and using my own examples\n",
    "\n",
    "import numpy as np\n",
    "\n",
    "# Function to calculate escape velocity\n",
    "def escape_velocity(mass, radius):\n",
    "    \"\"\"Calculates escape velocity for a planet.\"\"\"\n",
    "    G = 6.67430e-11  # Gravitational constant\n",
    "    return np.sqrt(2 * G * mass / radius)\n",
    "\n",
    "# Function to calculate orbital velocity\n",
    "def orbital_velocity(mass, radius):\n",
    "    \"\"\"Calculates orbital velocity for a planet.\"\"\"\n",
    "    G = 6.67430e-11\n",
    "    return np.sqrt(G * mass / radius)\n",
    "\n",
    "def rocket_launch(rocket_velocities, mass_of_planet, radius_of_planet):\n",
    "    \"\"\"\n",
    "    Determines if a rocket can escape based on its final velocity.\n",
    "\n",
    "    Inputs:\n",
    "    rocket_velocities (numpy.ndarray): List of rocket velocities in meters per second\n",
    "    mass_of_planet (float): Mass of the planet in kilograms\n",
    "    radius_of_planet (float): Radius of the planet in meters\n",
    "\n",
    "    Output:\n",
    "    statuses (list): Statements for each rocket describing its status.\n",
    "    \"\"\"\n",
    "    \n",
    "    # Calculate escape and orbital velocities\n",
    "    esc_velocity = escape_velocity(mass_of_planet, radius_of_planet)\n",
    "    orb_velocity = orbital_velocity(mass_of_planet, radius_of_planet)\n",
    "    \n",
    "    statuses = []  # To store the status of each rocket\n",
    "\n",
    "    # Loop through each rocket's velocity\n",
    "    for rocket_velocity in rocket_velocities:\n",
    "        # Use the velocity directly, no need for rocket[-1]\n",
    "        final_velocity_of_rocket = rocket_velocity\n",
    "        \n",
    "        # Determine the rocket's status based on its velocity\n",
    "        if final_velocity_of_rocket < orb_velocity:\n",
    "            statement = \"Rocket crashes back into the planet!\"\n",
    "        \n",
    "        elif orb_velocity <= final_velocity_of_rocket < esc_velocity:\n",
    "            statement = \"Rocket is orbiting around the planet.\"\n",
    "        \n",
    "        else:\n",
    "            statement = \"Rocket left the planet!\"\n",
    "        \n",
    "        # Append the status for the rocket\n",
    "        statuses.append(statement)\n",
    "\n",
    "    return statuses\n",
    "\n",
    "# Test case\n",
    "rocket_velocities = np.array([5000, 8000, 12000, 15000])  # List of rocket velocities in m/s\n",
    "mass_of_planet = 5.97e24  # Earth's mass in kilograms\n",
    "radius_of_planet = 6.37e6  # Earth's radius in meters\n",
    "\n",
    "# Call the function\n",
    "statuses = rocket_launch(rocket_velocities, mass_of_planet, radius_of_planet)\n",
    "\n",
    "# Print the results\n",
    "for i, status in enumerate(statuses):\n",
    "    print(f\"Rocket {i+1}: {status}\")\n",
    "\n"
   ]
  },
  {
   "cell_type": "code",
   "execution_count": null,
   "id": "05196d65-9e31-4cec-ad01-9f9cebe00046",
   "metadata": {},
   "outputs": [],
   "source": []
  },
  {
   "cell_type": "markdown",
   "id": "9ab3de38-dbd9-438f-a587-67e8777c9c93",
   "metadata": {},
   "source": [
    "In 2-3 sentences describe how this code follows \"good coding practices\" and where there is room for improvement."
   ]
  },
  {
   "cell_type": "code",
   "execution_count": null,
   "id": "94d49892-e1c0-4e6a-b05d-f9ddf3de4b44",
   "metadata": {},
   "outputs": [],
   "source": [
    "#I offered an overview of every step and was able to work around an issue that presented itself in the imported function not working.\n",
    "#That being said, the names of the functions could be more descriptive. For example, rocket launch is not describing the launch of a \n",
    "#rocket, rather it is describing the end behavior of that rocket as a function of its velocity and of the radius and mass of the planet, so\n",
    "#instead of rocket launch it could be named will_the_rocket_escape_the_earth's_gravity?"
   ]
  },
  {
   "cell_type": "markdown",
   "id": "2dce5617-a86a-4327-aa99-f29548f3b92c",
   "metadata": {},
   "source": [
    "# 3 Your Turn!\n",
    "Now its your turn to make a module! Choose a topic from a class (could be physics, computer science, nuclear engineering, biology, astronomy, math, or an topic that interests you!) and build a module around it! Look at my module called `example.py` and base your structure around it. Your module NEEDS to include the following.\n",
    "\n",
    "Overall:\n",
    "1) Your module needs to use at least one NumPy function: https://numpy.org/devdocs/reference/routines.math.html\n",
    "2) Your module needs to contain a multi-dimensional array: https://numpy.org/devdocs/reference/arrays.ndarray.html \n",
    "3) Your module needs **at least** three functions that follow good coding practices.\n",
    "4) Inside your function, include comments. Don't forget to describe what the function is doing and what the inputs and outputs are.\n",
    "5) Your module needs either a `for` loop or `while` loop.\n",
    "6) Your module needs an `if`, `elif`, and `else` statement.\n",
    "7) Your module needs at least two assignment variables (`+=`, `*=`, etc).\n",
    "8) Creativity. *If it looks like you plugged this whole thing into ChatGPT, I will take off points. You can use ChatGPT to help you code, but you can't use it to just do your homework for you. That's no fun :(*\n",
    "\n",
    "In 2-3 sentences, describe the topic of your module and its capabilities. "
   ]
  },
  {
   "cell_type": "code",
   "execution_count": null,
   "id": "0db7310e-b286-4ce7-aa0b-c211e243b7d6",
   "metadata": {},
   "outputs": [],
   "source": [
    "# I made a kinematics/projectile motion module that calculates trajectory, maximum height, and horizontal range.\n",
    "# I hate doing kinematics so I wanted to create a module that would speed up all the algebra you have to do. With just the initial velocity \n",
    "# and launch angle you can calculate max height, horizontal range, and the trajectory of the object."
   ]
  },
  {
   "cell_type": "markdown",
   "id": "f9ec7fbd-1d6d-4c08-8528-e9cdaa7e3f6b",
   "metadata": {},
   "source": [
    "In 2-3 sentences, answer the following. What was the most challenging part of building this module? What did you learn in the process that you can apply to future coding assignments?"
   ]
  },
  {
   "cell_type": "code",
   "execution_count": 30,
   "id": "19898c20-2adb-4011-b95e-1da864f7801a",
   "metadata": {},
   "outputs": [],
   "source": [
    "# Using all of the coding knowledge I have gathered over the past couple weeks. I do not have any formal coding expereince so learning \n",
    "# all of functions, having to implement for loops and elif statements, and utilizing imports was all kind of a slog at first. Generally\n",
    "# I just got better at coding and it's nice to be better at something like this."
   ]
  },
  {
   "cell_type": "markdown",
   "id": "85e943ab-1036-46bc-b9fb-da4ab1890816",
   "metadata": {},
   "source": [
    "Once your module is complete, import it here."
   ]
  },
  {
   "cell_type": "code",
   "execution_count": 52,
   "id": "fb9821b1-3cc0-4999-97eb-441571bbd5e1",
   "metadata": {},
   "outputs": [],
   "source": [
    "from Projectile_Motion import calculate_trajectory\n",
    "from Projectile_Motion import maximum_height\n",
    "from Projectile_Motion import horizontal_range_and_time_of_flight"
   ]
  },
  {
   "cell_type": "markdown",
   "id": "ac42ebd4-e51b-4be4-aaa7-6c7d550abd30",
   "metadata": {},
   "source": [
    "Call each of your functions in the cell below. Make sure to show the outputs! "
   ]
  },
  {
   "cell_type": "code",
   "execution_count": 73,
   "id": "b63d3d1f-64bd-4dc7-b20f-c562d09c7c92",
   "metadata": {},
   "outputs": [
    {
     "name": "stdout",
     "output_type": "stream",
     "text": [
      "10.193679918450558\n",
      "[[ 0.          0.          0.        ]\n",
      " [ 1.44160404 20.38735984 10.19367992]\n",
      " [ 2.88320808 40.77471967  0.        ]]\n",
      "(40.77471967380224, 2.8832080782326095)\n"
     ]
    }
   ],
   "source": [
    "initial_velocity = x = 20\n",
    "launch_angle = y = 45\n",
    "\n",
    "print(maximum_height(x,y))\n",
    "print(calculate_trajectory(x,y,num_points=3))\n",
    "print(horizontal_range_and_time_of_flight(x,y))"
   ]
  },
  {
   "cell_type": "markdown",
   "id": "8cf33b19-9bca-484e-8129-d8a4896a1bfa",
   "metadata": {},
   "source": [
    "# 4 Proper Submission\n",
    "To recieve full credit for this assignment make sure you do the following:\n",
    "\n",
    "1) Copy this homework assignment from the `ulab_2024` repository into **YOUR** local `homework7` branch. It will contain this notebook and an additional file called `example.py`. \n",
    "   \n",
    "2) Follow the tasks. Make sure to run all the cells so that **all** output is visible. You will get points taken off if your ouputs are not shown!\n",
    "\n",
    "3) Add/commit/push this notebook and **ANY** modules (so you should have `example.py` and your module) used in this homework assignment to your remote `homework7` branch. Make sure to have NOTHING else in your branch (i.e. no previous homeworks or lecture notes).\n",
    "\n",
    "4) Do the following:\n",
    "- Take a screenshot of moving **into or out** of your `homework7` brach, call it `hw7_branch`.\n",
    "- Take a screenshot of calling `ls` in your `homework7` branch, it should only contain items relevent to homework 7, call it `hw7_ls`.\n",
    "- Take a screenshot of adding this assignment to your local `homework7` branch, call it `hw7_add`.\n",
    "- Take a screenshot of committing this assignment to your local `homework7` branch, call it `hw7_commit`.\n",
    "- Take a screenshot of pushing this assignment to your remote `homework7` branch, call it `hw7_push`. \n",
    "\n",
    "6) Include these screenshots in your `homework7` branch. Upload your `homework7` branch to Gradescope!"
   ]
  }
 ],
 "metadata": {
  "kernelspec": {
   "display_name": "Python 3 (ipykernel)",
   "language": "python",
   "name": "python3"
  },
  "language_info": {
   "codemirror_mode": {
    "name": "ipython",
    "version": 3
   },
   "file_extension": ".py",
   "mimetype": "text/x-python",
   "name": "python",
   "nbconvert_exporter": "python",
   "pygments_lexer": "ipython3",
   "version": "3.12.4"
  }
 },
 "nbformat": 4,
 "nbformat_minor": 5
}
